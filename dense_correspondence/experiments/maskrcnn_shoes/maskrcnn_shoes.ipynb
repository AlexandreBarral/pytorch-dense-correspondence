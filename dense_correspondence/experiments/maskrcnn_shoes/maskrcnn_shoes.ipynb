{
 "cells": [
  {
   "cell_type": "markdown",
   "metadata": {},
   "source": [
    "## Trains MaskRCNN on shoes dataset\n",
    "\n",
    "- Make sure you are inside the pytorch 1.0 virtualenv before running this\n",
    "- Edit `paths_catalog_pdc.py` and add your dataset if necessary"
   ]
  },
  {
   "cell_type": "code",
   "execution_count": 1,
   "metadata": {},
   "outputs": [],
   "source": [
    "import os"
   ]
  },
  {
   "cell_type": "code",
   "execution_count": 2,
   "metadata": {},
   "outputs": [
    {
     "name": "stdout",
     "output_type": "stream",
     "text": [
      "python /home/manuelli/code/external/maskrcnn-benchmark/tools/train_net.py --config-file /home/manuelli/code/config/maskrcnn/e2e_mask_rcnn_R_101_FPN_1x_SINGLE_GPU.yaml OUTPUT_DIR \"/home/manuelli/data/pdc/trained_models/maskrcnn/shoes/shoes_101_FPN\" PATHS_CATALOG \"/home/manuelli/code/modules/dense_correspondence_manipulation/maskrcnn_tools/paths_catalog_pdc.py\" \n"
     ]
    }
   ],
   "source": [
    "DC_SOURCE_DIR = os.getenv(\"DC_SOURCE_DIR\")\n",
    "DC_DATA_DIR = os.getenv(\"DC_DATA_DIR\")\n",
    "MASKRCNN_BENCHMARK_DIR = os.path.join(DC_SOURCE_DIR, 'external', 'maskrcnn-benchmark')\n",
    "\n",
    "train_executable = os.path.join(MASKRCNN_BENCHMARK_DIR, \"tools\", \"train_net.py\")\n",
    "cfg_file = os.path.join(DC_SOURCE_DIR, 'config', 'maskrcnn', \"e2e_mask_rcnn_R_101_FPN_1x_SINGLE_GPU.yaml\")\n",
    "output_dir = os.path.join(DC_DATA_DIR, \"trained_models/maskrcnn/shoes/shoes_101_FPN\")\n",
    "paths_catalog = os.path.join(DC_SOURCE_DIR, \"modules/dense_correspondence_manipulation/maskrcnn_tools/paths_catalog_pdc.py\")\n",
    "\n",
    "args = \"\"\n",
    "\n",
    "args += \"OUTPUT_DIR \\\"%s\\\" \" %(output_dir)\n",
    "args += \"PATHS_CATALOG \\\"%s\\\" \" %(paths_catalog)\n",
    "\n",
    "cmd = \"python %s --config-file %s %s\" %(train_executable, cfg_file, args)\n",
    "print cmd"
   ]
  },
  {
   "cell_type": "code",
   "execution_count": null,
   "metadata": {},
   "outputs": [],
   "source": []
  },
  {
   "cell_type": "code",
   "execution_count": null,
   "metadata": {},
   "outputs": [],
   "source": []
  }
 ],
 "metadata": {
  "kernelspec": {
   "display_name": "Python 2",
   "language": "python",
   "name": "python2"
  },
  "language_info": {
   "codemirror_mode": {
    "name": "ipython",
    "version": 2
   },
   "file_extension": ".py",
   "mimetype": "text/x-python",
   "name": "python",
   "nbconvert_exporter": "python",
   "pygments_lexer": "ipython2",
   "version": "2.7.12"
  }
 },
 "nbformat": 4,
 "nbformat_minor": 2
}
