{
 "cells": [
  {
   "cell_type": "markdown",
   "metadata": {},
   "source": [
    "## Trains MaskRCNN on shoes dataset\n",
    "- Edit `paths_catalog_pdc.py` and add your dataset if necessary\n",
    "- Edit the necessary variables and run this notebook.\n",
    "- Make a new terminal where you are inside the pytorch 1.0 virtualenv, and run the string printed below in that terminal. This will start the training."
   ]
  },
  {
   "cell_type": "code",
   "execution_count": null,
   "metadata": {},
   "outputs": [],
   "source": [
    "import os\n",
    "import shutil"
   ]
  },
  {
   "cell_type": "code",
   "execution_count": null,
   "metadata": {},
   "outputs": [],
   "source": [
    "DC_SOURCE_DIR = os.getenv(\"DC_SOURCE_DIR\")\n",
    "DC_DATA_DIR = os.getenv(\"DC_DATA_DIR\")\n",
    "MASKRCNN_BENCHMARK_DIR = os.path.join(DC_SOURCE_DIR, 'external', 'maskrcnn-benchmark')\n",
    "\n",
    "train_executable = os.path.join(MASKRCNN_BENCHMARK_DIR, \"tools\", \"train_net.py\")\n",
    "cfg_file = os.path.join(DC_SOURCE_DIR, 'config', 'maskrcnn', \"e2e_mask_rcnn_R_101_FPN_1x_SINGLE_GPU.yaml\")\n",
    "output_dir = os.path.join(DC_DATA_DIR, \"trained_models/maskrcnn/shoes/test\")\n",
    "paths_catalog = os.path.join(DC_SOURCE_DIR, \"modules/dense_correspondence_manipulation/maskrcnn_tools/paths_catalog_pdc.py\")\n",
    "\n",
    "args = \"\"\n",
    "\n",
    "args += \"OUTPUT_DIR \\\"%s\\\" \" %(output_dir)\n",
    "args += \"PATHS_CATALOG \\\"%s\\\" \" %(paths_catalog)\n",
    "\n",
    "cmd = \"python %s --config-file %s %s\" %(train_executable, cfg_file, args)\n",
    "print(cmd)\n",
    "\n",
    "# copy file to output directory\n",
    "if not os.path.isdir(output_dir):\n",
    "    os.makedirs(output_dir)\n",
    "    \n",
    "shutil.copyfile(cfg_file, os.path.join(output_dir, \"config.yaml\"))"
   ]
  },
  {
   "cell_type": "code",
   "execution_count": null,
   "metadata": {},
   "outputs": [],
   "source": []
  }
 ],
 "metadata": {
  "kernelspec": {
   "display_name": "Python 2",
   "language": "python",
   "name": "python2"
  },
  "language_info": {
   "codemirror_mode": {
    "name": "ipython",
    "version": 3
   },
   "file_extension": ".py",
   "mimetype": "text/x-python",
   "name": "python",
   "nbconvert_exporter": "python",
   "pygments_lexer": "ipython3",
   "version": "3.5.2"
  }
 },
 "nbformat": 4,
 "nbformat_minor": 2
}
