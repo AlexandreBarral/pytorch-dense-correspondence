{
 "cells": [
  {
   "cell_type": "code",
   "execution_count": null,
   "metadata": {},
   "outputs": [],
   "source": [
    "%matplotlib inline\n",
    "import os\n",
    "\n",
    "from pycocotools.coco import COCO\n",
    "import numpy as np\n",
    "import skimage.io as io\n",
    "import matplotlib.pyplot as plt\n",
    "import pylab\n",
    "pylab.rcParams['figure.figsize'] = (8.0, 10.0)"
   ]
  },
  {
   "cell_type": "code",
   "execution_count": null,
   "metadata": {},
   "outputs": [],
   "source": [
    "dataset_root_dir = os.path.join(os.getenv(\"COCO_CUSTOM_DATA_DIR\"), \"shoes\", \"multi_shoe_dev\")\n",
    "dataDIR = os.path.join(dataset_root_dir, 'images')\n",
    "annFile = os.path.join(dataset_root_dir, \"multi_shoe_dev.json\")"
   ]
  },
  {
   "cell_type": "code",
   "execution_count": null,
   "metadata": {},
   "outputs": [],
   "source": [
    "coco = COCO(annFile)"
   ]
  },
  {
   "cell_type": "code",
   "execution_count": null,
   "metadata": {},
   "outputs": [],
   "source": [
    "imgIds = coco.getImgIds()"
   ]
  },
  {
   "cell_type": "code",
   "execution_count": null,
   "metadata": {},
   "outputs": [],
   "source": [
    "def test_annotation(ann):\n",
    "    valid = True\n",
    "    AREA_THRESHOLD = 5.0\n",
    "    \n",
    "    area = ann['area']\n",
    "    [x,y,width,height] = ann['bbox']\n",
    "    \n",
    "    if (width < 2) or (height < 2):\n",
    "        print \"bbox was very small\"\n",
    "        print \"ann['bbox']\", ann['bbox']\n",
    "        print \"area\", area\n",
    "        valid = False\n",
    "        \n",
    "    if area < AREA_THRESHOLD:\n",
    "        print \"area was very small\"\n",
    "        print \"area\", area\n",
    "        valid = False\n",
    "        \n",
    "        \n",
    "    return valid\n",
    "\n",
    "for img_id in imgIds:\n",
    "    def print_info():\n",
    "        print \"img_id\", img_id\n",
    "        \n",
    "    annIds = coco.getAnnIds(imgIds=img_id)\n",
    "    anns = coco.loadAnns(annIds)\n",
    "    \n",
    "    if (len(anns) == 0):\n",
    "        print_info()\n",
    "        print \"annotations empty\\n\"\n",
    "\n",
    "    \n",
    "    for ann in anns:\n",
    "        if len(ann['segmentation']) == 0:\n",
    "            print_info()\n",
    "            print \"segmentations empty\"\n",
    "            \n",
    "        valid = test_annotation(ann)\n",
    "        if not valid:\n",
    "            print_info()\n",
    "            print \"\\n\"\n",
    "#             raise ValueError(\"annotation was invalid\")\n",
    "        \n",
    "    "
   ]
  },
  {
   "cell_type": "code",
   "execution_count": null,
   "metadata": {},
   "outputs": [],
   "source": []
  }
 ],
 "metadata": {
  "kernelspec": {
   "display_name": "Python 2",
   "language": "python",
   "name": "python2"
  },
  "language_info": {
   "codemirror_mode": {
    "name": "ipython",
    "version": 2
   },
   "file_extension": ".py",
   "mimetype": "text/x-python",
   "name": "python",
   "nbconvert_exporter": "python",
   "pygments_lexer": "ipython2",
   "version": "2.7.12"
  }
 },
 "nbformat": 4,
 "nbformat_minor": 2
}
