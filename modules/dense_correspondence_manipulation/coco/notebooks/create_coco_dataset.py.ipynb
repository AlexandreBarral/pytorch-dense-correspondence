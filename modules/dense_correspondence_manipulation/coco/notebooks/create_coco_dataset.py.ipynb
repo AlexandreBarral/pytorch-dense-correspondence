{
 "cells": [
  {
   "cell_type": "code",
   "execution_count": null,
   "metadata": {},
   "outputs": [],
   "source": [
    "# working on loading data to the coco format\n",
    "\n",
    "# system\n",
    "import os\n",
    "import cv2\n",
    "import numpy as np\n",
    "import matplotlib.pyplot as plt\n",
    "\n",
    "# pdc\n",
    "import dense_correspondence_manipulation.utils.utils as utils\n",
    "from  dense_correspondence_manipulation.coco.coco_dataset_formatter import COCOSpartanDatasetLoader, COCODataFormatter\n",
    "\n",
    "%load_ext autoreload\n",
    "%autoreload 2\n",
    "%matplotlib inline\n",
    "\n",
    "DATASET_NAME = \"multi_shoe_val_10\"\n",
    "MIN_NUM_SHOES = 1\n",
    "MAX_NUM_SHOES = 7\n",
    "NUM_IMAGES = 10"
   ]
  },
  {
   "cell_type": "code",
   "execution_count": null,
   "metadata": {},
   "outputs": [],
   "source": [
    "config_filename = os.path.join(utils.getDenseCorrespondenceSourceDir(), 'config', 'dense_correspondence', \n",
    "                               'dataset', 'composite', 'shoes_all.yaml')\n",
    "\n",
    "train_config_filename = os.path.join(utils.getDenseCorrespondenceSourceDir(), 'config', 'dense_correspondence', \n",
    "                               'training', 'training.yaml')\n",
    "\n",
    "data_loader = COCOSpartanDatasetLoader(config_filename, train_config_filename, random=True)\n",
    "data_formatter = COCODataFormatter(DATASET_NAME)"
   ]
  },
  {
   "cell_type": "code",
   "execution_count": null,
   "metadata": {
    "scrolled": true
   },
   "outputs": [],
   "source": [
    "image_rgb, image_mask, rgb_filename = data_formatter.get_random_merged_image(data_loader, MIN_NUM_SHOES, MAX_NUM_SHOES)\n",
    "\n",
    "# display the original RGB image and the mask\n",
    "plt.figure(1,figsize=(10, 8))\n",
    "plt.subplot(121)\n",
    "plt.imshow(image_rgb)\n",
    "\n",
    "plt.subplot(122)\n",
    "plt.imshow(image_mask)"
   ]
  },
  {
   "cell_type": "code",
   "execution_count": null,
   "metadata": {
    "scrolled": true
   },
   "outputs": [],
   "source": [
    "# process of creating coco annotations\n",
    "\n",
    "# keep track of images and annotations\n",
    "images = []\n",
    "annotations = []\n",
    "\n",
    "annotation_id = 0\n",
    "\n",
    "# grab a number of random images\n",
    "\n",
    "image_id = 0\n",
    "\n",
    "import time\n",
    "start = time.time()\n",
    "\n",
    "\n",
    "while image_id < NUM_IMAGES:\n",
    "    \n",
    "    start_time = time.time()\n",
    "    \n",
    "    \n",
    "    # load a new data point\n",
    "    # 1 to 7 shoes per image\n",
    "    image_rgb, image_mask, rgb_filename = data_formatter.get_random_merged_image(data_loader, MIN_NUM_SHOES, MAX_NUM_SHOES)\n",
    "    \n",
    "    # TODO(ethan): set width, height, and file_name\n",
    "    height, width = data_formatter.get_height_and_width_of_image_mask(image_mask)\n",
    "    # COCO doesn't expect the full path\n",
    "    file_name = os.path.basename(rgb_filename)\n",
    "    \n",
    "    image_info = data_formatter.get_image_info(\n",
    "    image_id,\n",
    "    width,\n",
    "    height,\n",
    "    file_name)\n",
    "    \n",
    "    images.append(image_info)\n",
    "    \n",
    "    # iterate through all the masks in the image (in this case assuming one)\n",
    "    number_masks = np.max(image_mask)\n",
    "    for object_id in range(1):\n",
    "        # object_id (our notation) is category_id (COCO notation)\n",
    "        category_id = object_id\n",
    "        \n",
    "        # iterate over each unique shoe and create an annotation\n",
    "        for mask_idx in range(1, number_masks+1):\n",
    "            try:\n",
    "                # create a binary mask of just the unique shoe\n",
    "                this_mask = image_mask.copy()\n",
    "                this_mask[image_mask != mask_idx] = 0\n",
    "                this_mask[image_mask == mask_idx] = 1\n",
    "                annotation_info = data_formatter.get_annotation_info(annotation_id, image_id, category_id, this_mask)\n",
    "            except:\n",
    "                # the area of the mask could be 0\n",
    "                continue\n",
    "            annotations.append(annotation_info)\n",
    "            annotation_id += 1\n",
    "        \n",
    "    image_id += 1\n",
    "    \n",
    "    elapsed = time.time() - start_time\n",
    "    print(\"image %d of %d, duration %.2f\" %(image_id, NUM_IMAGES, elapsed))\n",
    "    \n",
    "done = time.time()\n",
    "elapsed = done - start\n",
    "print(\"Time to complete: {} seconds\".format(elapsed))\n",
    "\n",
    "coco_output = data_formatter.get_coco_output_from_images_and_annotations(images, annotations)\n",
    "data_formatter.write_to_relative_json_filename(coco_output)"
   ]
  }
 ],
 "metadata": {
  "kernelspec": {
   "display_name": "Python 2",
   "language": "python",
   "name": "python2"
  },
  "language_info": {
   "codemirror_mode": {
    "name": "ipython",
    "version": 2
   },
   "file_extension": ".py",
   "mimetype": "text/x-python",
   "name": "python",
   "nbconvert_exporter": "python",
   "pygments_lexer": "ipython2",
   "version": "2.7.12"
  }
 },
 "nbformat": 4,
 "nbformat_minor": 2
}
