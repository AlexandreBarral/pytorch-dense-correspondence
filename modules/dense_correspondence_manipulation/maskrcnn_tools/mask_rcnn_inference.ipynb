{
 "cells": [
  {
   "cell_type": "markdown",
   "metadata": {},
   "source": [
    "# Mask R-CNN demo\n",
    "\n",
    "This notebook illustrates one possible way of using `maskrcnn_benchmark` for computing predictions on images from an arbitrary URL.\n",
    "\n",
    "Let's start with a few standard imports"
   ]
  },
  {
   "cell_type": "code",
   "execution_count": null,
   "metadata": {},
   "outputs": [],
   "source": [
    "import matplotlib.pyplot as plt\n",
    "import matplotlib.pylab as pylab\n",
    "\n",
    "import requests\n",
    "from io import BytesIO\n",
    "from PIL import Image\n",
    "import numpy as np\n",
    "\n",
    "from torchvision import transforms as T\n",
    "import torch\n",
    "import cv2\n",
    "\n",
    "import os\n",
    "import dense_correspondence_manipulation.utils.utils as pdc_utils\n",
    "from dense_correspondence_manipulation.maskrcnn_tools.inference import MaskRCNNInference"
   ]
  },
  {
   "cell_type": "code",
   "execution_count": null,
   "metadata": {},
   "outputs": [],
   "source": [
    "# this makes our figures bigger\n",
    "pylab.rcParams['figure.figsize'] = 20, 12"
   ]
  },
  {
   "cell_type": "markdown",
   "metadata": {},
   "source": [
    "Those are the relevant imports for the detection model"
   ]
  },
  {
   "cell_type": "code",
   "execution_count": null,
   "metadata": {},
   "outputs": [],
   "source": [
    "from maskrcnn_benchmark.config import cfg\n",
    "from predictor import COCODemo"
   ]
  },
  {
   "cell_type": "markdown",
   "metadata": {},
   "source": [
    "We provide a helper class `COCODemo`, which loads a model from the config file, and performs pre-processing, model prediction and post-processing for us.\n",
    "\n",
    "We can configure several model options by overriding the config options.\n",
    "In here, we make the model run on the CPU"
   ]
  },
  {
   "cell_type": "code",
   "execution_count": null,
   "metadata": {},
   "outputs": [],
   "source": [
    "# config_file = os.path.join(pdc_utils.getDenseCorrespondenceSourceDir(), \"external/maskrcnn-benchmark/configs\",\n",
    "#                            \"caffe2/e2e_mask_rcnn_R_50_FPN_1x_caffe2.yaml\")\n",
    "\n",
    "# config_file = os.path.join(pdc_utils.getDenseCorrespondenceSourceDir(), \"config/maskrcnn/e2e_mask_rcnn_R_101_FPN_1x_SINGLE_GPU.yaml\")\n",
    "\n",
    "# # update the config options with the config file\n",
    "# cfg.merge_from_file(config_file)\n",
    "# # manual override some options\n",
    "# cfg.merge_from_list([\"MODEL.DEVICE\", \"cuda\"])\n",
    "# cfg.MODEL.WEIGHT = \"/home/manuelli/data/pdc/trained_models/maskrcnn/shoes/shoes_101_FPN/model_final.pth\"\n",
    "\n",
    "model_folder = \"/home/manuelli/data/pdc/trained_models/maskrcnn/shoes/shoes_101_FPN\"\n",
    "inference = MaskRCNNInference.from_model_folder(model_folder)"
   ]
  },
  {
   "cell_type": "markdown",
   "metadata": {},
   "source": [
    "Now we create the `COCODemo` object. It contains a few extra options for conveniency, such as the confidence threshold for detections to be shown."
   ]
  },
  {
   "cell_type": "markdown",
   "metadata": {},
   "source": [
    "Let's define a few helper functions for loading images from a URL"
   ]
  },
  {
   "cell_type": "code",
   "execution_count": null,
   "metadata": {},
   "outputs": [],
   "source": [
    "def load(url):\n",
    "    \"\"\"\n",
    "    Given an url of an image, downloads the image and\n",
    "    returns a PIL image\n",
    "    \"\"\"\n",
    "    response = requests.get(url)\n",
    "    pil_image = Image.open(BytesIO(response.content)).convert(\"RGB\")\n",
    "    # convert to BGR format\n",
    "    image = np.array(pil_image)[:, :, [2, 1, 0]]\n",
    "    return image\n",
    "\n",
    "def imshow(img):\n",
    "    plt.imshow(img[:, :, [2, 1, 0]])\n",
    "    plt.axis(\"off\")\n",
    "    \n",
    "def get_image():\n",
    "    \"\"\"\n",
    "    Import image from pdc dataset\n",
    "    \"\"\"\n",
    "    scene_name = \"2018-11-16-21-00-00\"\n",
    "    images_path = os.path.join(pdc_utils.get_data_dir(), 'logs_proto', \"2018-11-16-21-00-00\", \"processed/images\")\n",
    "    img_idx = 0\n",
    "    \n",
    "#     image_filename = \"/home/manuelli/data/pdc/coco/shoes/multi_shoe_train_10k/images/00000.png\"\n",
    "    image_filename = os.path.join(images_path, '{0:06d}_rgb.png'.format(img_idx))\n",
    "    pil_image = Image.open(image_filename).convert(\"RGB\")\n",
    "    # convert to BGR format\n",
    "    image = np.array(pil_image)[:, :, [2, 1, 0]]\n",
    "    return image"
   ]
  },
  {
   "cell_type": "markdown",
   "metadata": {},
   "source": [
    "Let's now load an image from the COCO dataset. It's reference is in the comment"
   ]
  },
  {
   "cell_type": "code",
   "execution_count": null,
   "metadata": {},
   "outputs": [],
   "source": [
    "# from http://cocodataset.org/#explore?id=345434\n",
    "# image = load(\"http://farm3.staticflickr.com/2469/3915380994_2e611b1779_z.jpg\")\n",
    "image = get_image()\n",
    "imshow(image)"
   ]
  },
  {
   "cell_type": "markdown",
   "metadata": {},
   "source": [
    "### Computing the predictions\n",
    "\n",
    "We provide a `run_on_opencv_image` function, which takes an image as it was loaded by OpenCV (in `BGR` format), and computes the predictions on them, returning an image with the predictions overlayed on the image."
   ]
  },
  {
   "cell_type": "code",
   "execution_count": null,
   "metadata": {},
   "outputs": [],
   "source": [
    "# compute predictions\n",
    "predictions = inference.coco_demo.run_on_opencv_image(image)\n",
    "imshow(predictions)\n",
    "\n",
    "print(type(predictions))\n",
    "print(predictions.shape)"
   ]
  },
  {
   "cell_type": "markdown",
   "metadata": {},
   "source": [
    "### Saving predictions to disk\n",
    "Save the predictions to a directory"
   ]
  },
  {
   "cell_type": "code",
   "execution_count": null,
   "metadata": {},
   "outputs": [],
   "source": [
    "predictions = inference.coco_demo.compute_prediction(image)\n",
    "print(type(predictions))\n",
    "\n",
    "save_dir = os.path.join(pdc_utils.getDenseCorrespondenceSourceDir(), \"scratch/maskrcnn_predictions\")\n",
    "MaskRCNNInference.save_predictions(save_dir, predictions)"
   ]
  },
  {
   "cell_type": "markdown",
   "metadata": {},
   "source": [
    "### Visualize Mask"
   ]
  },
  {
   "cell_type": "code",
   "execution_count": null,
   "metadata": {},
   "outputs": [],
   "source": [
    "# visualize the saved mask\n",
    "data = pdc_utils.getDictFromYamlFilename(os.path.join(save_dir, 'data.yaml'))\n",
    "data['detections']\n",
    "mask_img = Image.open(os.path.join(save_dir, data['detections'][0]['mask_image_filename']))\n",
    "plt.imshow(np.asarray(mask_img))"
   ]
  }
 ],
 "metadata": {
  "kernelspec": {
   "display_name": "Python 2",
   "language": "python",
   "name": "python2"
  },
  "language_info": {
   "codemirror_mode": {
    "name": "ipython",
    "version": 3
   },
   "file_extension": ".py",
   "mimetype": "text/x-python",
   "name": "python",
   "nbconvert_exporter": "python",
   "pygments_lexer": "ipython3",
   "version": "3.5.2"
  }
 },
 "nbformat": 4,
 "nbformat_minor": 2
}
